{
 "cells": [
  {
   "cell_type": "code",
   "execution_count": 64,
   "id": "4d4d6aaf",
   "metadata": {},
   "outputs": [
    {
     "name": "stdout",
     "output_type": "stream",
     "text": [
      "[[1, 1, 0, 0, 0, 0, 1, 1], [1, 1, 0, 1, 1, 0, 1, 1], [0, 0, 0, 1, 1, 0, 0, 0], [1, 1, 0, 1, 1, 0, 1, 1], [1, 1, 0, 0, 0, 0, 1, 1], [1, 1, 0, 0, 0, 0, 1, 1], [1, 1, 0, 1, 1, 0, 1, 1], [0, 0, 0, 1, 1, 0, 0, 0], [1, 1, 0, 1, 1, 0, 1, 1], [1, 1, 0, 0, 0, 0, 1, 1]]\n",
      "10 8\n"
     ]
    }
   ],
   "source": [
    " # Project has an array hardcoded which is from the brief.\n",
    "tables = [[1,1,0,0,0,0,1,1],\n",
    "\n",
    " [1,1,0,1,1,0,1,1],\n",
    "\n",
    " [0,0,0,1,1,0,0,0],\n",
    "\n",
    " [1,1,0,1,1,0,1,1],\n",
    "\n",
    " [1,1,0,0,0,0,1,1],\n",
    "\n",
    "[1,1,0,0,0,0,1,1],\n",
    "\n",
    " [1,1,0,1,1,0,1,1],\n",
    "\n",
    " [0,0,0,1,1,0,0,0],\n",
    "\n",
    " [1,1,0,1,1,0,1,1],\n",
    "\n",
    " [1,1,0,0,0,0,1,1]]\n",
    "\n",
    "\n",
    "print(tables)\n",
    "\n",
    "n = len(tables[0])\n",
    "m = len(tables)\n",
    "print(m,n)"
   ]
  },
  {
   "cell_type": "code",
   "execution_count": 57,
   "id": "fef68c65",
   "metadata": {},
   "outputs": [],
   "source": [
    "#Recursive function to find all people at a table\n",
    "def getNeigh(i,j):    \n",
    "    if i+1 <= m-1 :\n",
    "        if tables[i+1][j] == 1:\n",
    "            if (i+1,j) in people_coords:\n",
    "                return\n",
    "            team_coords[team_count].append((i+1,j))\n",
    "            people_coords.add((i+1,j))\n",
    "            getNeigh(i+1,j)\n",
    "    if i-1 >= 0 : \n",
    "        if tables[i-1][j] == 1:\n",
    "            if (i-1,j) in people_coords:\n",
    "                return\n",
    "            team_coords[team_count].append((i-1,j))\n",
    "            people_coords.add((i-1,j))\n",
    "            getNeigh(i-1,j)\n",
    "        \n",
    "    if j+1 <= n-1:\n",
    "        if tables[i][j+1] == 1:\n",
    "            if (i, j+1) in people_coords:\n",
    "                return\n",
    "            team_coords[team_count].append((i,j+1))\n",
    "            people_coords.add((i,j+1))\n",
    "            getNeigh(i,j+1)\n",
    "    \n",
    "    if j-1  >= 0:\n",
    "        if tables [i][j-1] == 1:\n",
    "            if (i, j-1) in people_coords:\n",
    "                return\n",
    "            team_coords[team_count].append((i,j-1))\n",
    "            people_coords.add((i,j-1))\n",
    "            getNeigh(i,j-1)\n",
    "        \n",
    "            "
   ]
  },
  {
   "cell_type": "code",
   "execution_count": 65,
   "id": "442ca774",
   "metadata": {},
   "outputs": [
    {
     "name": "stdout",
     "output_type": "stream",
     "text": [
      "0 0\n",
      "0 1\n",
      "0 2\n",
      "0 3\n",
      "0 4\n",
      "0 5\n",
      "0 6\n",
      "1 0\n",
      "1 1\n",
      "1 2\n",
      "1 3\n",
      "1 4\n",
      "1 5\n",
      "1 6\n",
      "2 0\n",
      "2 1\n",
      "2 2\n",
      "2 3\n",
      "2 4\n",
      "2 5\n",
      "2 6\n",
      "3 0\n",
      "3 1\n",
      "3 2\n",
      "3 3\n",
      "3 4\n",
      "3 5\n",
      "3 6\n",
      "4 0\n",
      "4 1\n",
      "4 2\n",
      "4 3\n",
      "4 4\n",
      "4 5\n",
      "4 6\n",
      "5 0\n",
      "5 1\n",
      "5 2\n",
      "5 3\n",
      "5 4\n",
      "5 5\n",
      "5 6\n",
      "6 0\n",
      "6 1\n",
      "6 2\n",
      "6 3\n",
      "6 4\n",
      "6 5\n",
      "6 6\n",
      "7 0\n",
      "7 1\n",
      "7 2\n",
      "7 3\n",
      "7 4\n",
      "7 5\n",
      "7 6\n",
      "8 0\n",
      "8 1\n",
      "8 2\n",
      "8 3\n",
      "8 4\n",
      "8 5\n",
      "8 6\n"
     ]
    }
   ],
   "source": [
    "team_coords = {} #team num, team persons coords\n",
    "team_count = 0 \n",
    "people_coords = set()\n",
    "\n",
    "\n",
    "for i in range(m-1):\n",
    "    for j in range(n-1):\n",
    "        print(i,j)\n",
    "        if tables[i][j] == 1: \n",
    "            if (i,j) in people_coords:\n",
    "                continue\n",
    "            team_coords[team_count] = []\n",
    "            people_coords.add((i,j))\n",
    "            team_coords[team_count].append((i,j))\n",
    "            getNeigh(i,j)\n",
    "            team_count += 1\n",
    "\n",
    "            "
   ]
  },
  {
   "cell_type": "code",
   "execution_count": 66,
   "id": "fe83b4bf",
   "metadata": {},
   "outputs": [
    {
     "name": "stdout",
     "output_type": "stream",
     "text": [
      " 8 teams of [4, 4, 6, 8, 8, 6, 4, 4] totaling 44\n"
     ]
    }
   ],
   "source": [
    "print(f\" {team_count} teams of {[len(x) for x in team_coords.values()]} totaling {len(people_coords)}\")\n"
   ]
  }
 ],
 "metadata": {
  "kernelspec": {
   "display_name": "Python 3 (ipykernel)",
   "language": "python",
   "name": "python3"
  },
  "language_info": {
   "codemirror_mode": {
    "name": "ipython",
    "version": 3
   },
   "file_extension": ".py",
   "mimetype": "text/x-python",
   "name": "python",
   "nbconvert_exporter": "python",
   "pygments_lexer": "ipython3",
   "version": "3.9.12"
  }
 },
 "nbformat": 4,
 "nbformat_minor": 5
}
