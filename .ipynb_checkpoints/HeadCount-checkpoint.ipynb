{
 "cells": [
  {
   "cell_type": "code",
   "execution_count": 132,
   "id": "bab9173b",
   "metadata": {},
   "outputs": [
    {
     "name": "stdout",
     "output_type": "stream",
     "text": [
      "[[1, 1, 0, 0, 0, 0, 1, 1], [1, 1, 0, 1, 1, 0, 1, 1], [0, 0, 0, 1, 1, 0, 0, 0], [1, 1, 0, 1, 1, 0, 1, 1], [1, 1, 0, 0, 0, 0, 1, 1]]\n",
      "5 8\n"
     ]
    }
   ],
   "source": [
    " # Project has an array hardcoded which is from the brief.\n",
    "# insert m*n table here\n",
    "tables = [[1,1,0,0,0,0,1,1],\n",
    "\n",
    " [1,1,0,1,1,0,1,1],\n",
    "\n",
    " [0,0,0,1,1,0,0,0],\n",
    "\n",
    " [1,1,0,1,1,0,1,1],\n",
    "\n",
    " [1,1,0,0,0,0,1,1]]\n",
    "\n",
    "\n",
    "print(tables)\n",
    "\n",
    "n = len(tables[0])\n",
    "m = len(tables)\n",
    "print(m,n)"
   ]
  },
  {
   "cell_type": "code",
   "execution_count": 115,
   "id": "4bb2f938",
   "metadata": {},
   "outputs": [],
   "source": [
    "#Recursive function to find all people at a table\n",
    "def getNeigh(i,j):    \n",
    "    if i+1 <= m-1:\n",
    "        if tables[i+1][j] == 1:\n",
    "            if (i+1,j) in people_coords:\n",
    "                return\n",
    "            team_coords[team_count].append((i+1,j))\n",
    "            people_coords.add((i+1,j))\n",
    "            getNeigh(i+1,j)\n",
    "            \n",
    "    if i-1 >= 0: \n",
    "        if tables[i-1][j] == 1:\n",
    "            if (i-1,j) in people_coords:\n",
    "                return\n",
    "            team_coords[team_count].append((i-1,j))\n",
    "            people_coords.add((i-1,j))\n",
    "            getNeigh(i-1,j)\n",
    "        \n",
    "    if j+1 <= n-1:\n",
    "        if tables[i][j+1] == 1:\n",
    "            if (i, j+1) in people_coords:\n",
    "                return\n",
    "            team_coords[team_count].append((i,j+1))\n",
    "            people_coords.add((i,j+1))\n",
    "            getNeigh(i,j+1)\n",
    "    \n",
    "    if j-1  >= 0:\n",
    "        if tables [i][j-1] == 1:\n",
    "            if (i, j-1) in people_coords:\n",
    "                return\n",
    "            team_coords[team_count].append((i,j-1))\n",
    "            people_coords.add((i,j-1))\n",
    "            getNeigh(i,j-1)\n",
    "        \n",
    "            "
   ]
  },
  {
   "cell_type": "code",
   "execution_count": 133,
   "id": "a6e6ba69",
   "metadata": {},
   "outputs": [],
   "source": [
    "#Main Cell\n",
    "\n",
    "team_coords = {} #team num, team persons coords\n",
    "team_count = 0 \n",
    "people_coords = set()\n",
    "\n",
    "\n",
    "for i in range(m):\n",
    "    for j in range(n):\n",
    "        if tables[i][j] == 1: \n",
    "        #if there is a person\n",
    "            if (i,j) in people_coords:\n",
    "                #if person has been checked\n",
    "                continue\n",
    "            \n",
    "            team_coords[team_count] = [(i,j)]\n",
    "            people_coords.add((i,j))\n",
    "            getNeigh(i,j)\n",
    "            team_count += 1\n",
    "\n",
    "        "
   ]
  },
  {
   "cell_type": "code",
   "execution_count": 137,
   "id": "0aac1759",
   "metadata": {},
   "outputs": [
    {
     "name": "stdout",
     "output_type": "stream",
     "text": [
      " 5 teams of [6, 4, 4, 4, 4] totaling 22\n"
     ]
    }
   ],
   "source": [
    "team_size = [len(x) for x in team_coords.values()]\n",
    "team_size.sort(reverse = True)\n",
    "\n",
    "print(f\" {len(team_size)} teams of {team_size} totaling {len(people_coords)}\")\n"
   ]
  }
 ],
 "metadata": {
  "kernelspec": {
   "display_name": "Python 3 (ipykernel)",
   "language": "python",
   "name": "python3"
  },
  "language_info": {
   "codemirror_mode": {
    "name": "ipython",
    "version": 3
   },
   "file_extension": ".py",
   "mimetype": "text/x-python",
   "name": "python",
   "nbconvert_exporter": "python",
   "pygments_lexer": "ipython3",
   "version": "3.9.12"
  }
 },
 "nbformat": 4,
 "nbformat_minor": 5
}
